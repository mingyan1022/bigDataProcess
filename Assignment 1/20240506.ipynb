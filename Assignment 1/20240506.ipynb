{
  "nbformat": 4,
  "nbformat_minor": 0,
  "metadata": {
    "colab": {
      "provenance": []
    },
    "kernelspec": {
      "name": "python3",
      "display_name": "Python 3"
    },
    "language_info": {
      "name": "python"
    }
  },
  "cells": [
    {
      "cell_type": "code",
      "execution_count": 1,
      "metadata": {
        "colab": {
          "base_uri": "https://localhost:8080/"
        },
        "id": "IMb8GIIU5Xm_",
        "outputId": "ee481fe6-eb32-4f3b-fd35-2ea0fe6556b3"
      },
      "outputs": [
        {
          "output_type": "stream",
          "name": "stdout",
          "text": [
            "  1   2   3   4   6   7   8   9  11  12  13  14 \n",
            "total = 90\n"
          ]
        }
      ],
      "source": [
        "total = 0\n",
        "number = 1\n",
        "while number <= 15:\n",
        "  if number % 5 == 0:\n",
        "    number += 1\n",
        "    continue\n",
        "  print('%3d'%(number), end = ' ')\n",
        "  total += number\n",
        "  number += 1\n",
        "\n",
        "print('\\ntotal = %d'%(total))"
      ]
    },
    {
      "cell_type": "code",
      "source": [
        "total = 0\n",
        "number = 1\n",
        "while number <= 15:\n",
        "  if number % 5 == 0:\n",
        "    number += 1\n",
        "    break\n",
        "  print('%3d'%(number), end = ' ')\n",
        "  total += number\n",
        "  number += 1\n",
        "\n",
        "print('\\ntotal = %d'%(total))"
      ],
      "metadata": {
        "colab": {
          "base_uri": "https://localhost:8080/"
        },
        "id": "5yU9b0G_6jRl",
        "outputId": "f82b47bf-b3ba-4958-ef66-b5abc3b450cc"
      },
      "execution_count": 3,
      "outputs": [
        {
          "output_type": "stream",
          "name": "stdout",
          "text": [
            "  1   2   3   4 \n",
            "total = 10\n"
          ]
        }
      ]
    },
    {
      "cell_type": "code",
      "source": [
        "import random\n",
        "n1 = random.randint(1,100)\n",
        "n2 = random.randint(1,100)\n",
        "while True:\n",
        "  solution = n1+n2\n",
        "  answer = eval(input('%d+%d='%(n1,n2)))\n",
        "  if answer == solution:\n",
        "    print('I am genius.')\n",
        "    break\n",
        "  else:\n",
        "    print('I am beautiful.')\n",
        "print('Over')"
      ],
      "metadata": {
        "colab": {
          "base_uri": "https://localhost:8080/"
        },
        "id": "29GM6HFu8et_",
        "outputId": "e33b0975-6536-4e52-bbae-845ef1ecdc06"
      },
      "execution_count": 6,
      "outputs": [
        {
          "output_type": "stream",
          "name": "stdout",
          "text": [
            "59+96=33\n",
            "I am beautiful.\n",
            "59+96=66\n",
            "I am beautiful.\n",
            "59+96=88\n",
            "I am beautiful.\n",
            "59+96=155\n",
            "I am genius.\n",
            "Over\n"
          ]
        }
      ]
    }
  ]
}