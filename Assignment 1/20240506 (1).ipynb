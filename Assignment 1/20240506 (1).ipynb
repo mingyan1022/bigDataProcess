{
  "nbformat": 4,
  "nbformat_minor": 0,
  "metadata": {
    "colab": {
      "provenance": []
    },
    "kernelspec": {
      "name": "python3",
      "display_name": "Python 3"
    },
    "language_info": {
      "name": "python"
    }
  },
  "cells": [
    {
      "cell_type": "code",
      "execution_count": 1,
      "metadata": {
        "colab": {
          "base_uri": "https://localhost:8080/"
        },
        "id": "9pDZYeMsfJiq",
        "outputId": "4a7eab22-d4fe-495c-d939-d9454b577d7a"
      },
      "outputs": [
        {
          "output_type": "stream",
          "name": "stdout",
          "text": [
            "********************\n",
            "******************************\n",
            "**************************************************\n"
          ]
        }
      ],
      "source": [
        "def printStar(n):\n",
        "  for i in range(1, n+1):\n",
        "    print('*', end = '')\n",
        "  print()\n",
        "\n",
        "def main():\n",
        "  printStar(20)\n",
        "  printStar(30)\n",
        "  printStar(50)\n",
        "\n",
        "main()"
      ]
    },
    {
      "cell_type": "code",
      "source": [
        "def total():\n",
        "  sum = 0\n",
        "  for i in range(1, 101):\n",
        "    sum += 1\n",
        "  print('summation of 1 to 100:', sum)\n",
        "\n",
        "def main():\n",
        "  total()\n",
        "\n",
        "main()"
      ],
      "metadata": {
        "colab": {
          "base_uri": "https://localhost:8080/"
        },
        "id": "SffYs3_tgYtf",
        "outputId": "90241b0e-b0be-43d3-f815-dd029629607e"
      },
      "execution_count": 2,
      "outputs": [
        {
          "output_type": "stream",
          "name": "stdout",
          "text": [
            "summation of 1 to 100: 100\n"
          ]
        }
      ]
    },
    {
      "cell_type": "code",
      "source": [
        "def total(a, b):\n",
        "  sum = 0\n",
        "  for i in range(a, b+1):\n",
        "    sum += 1\n",
        "  return sum\n",
        "\n",
        "def main():\n",
        "  x = eval(input('Enter start number: '))\n",
        "  y = eval(input('Enter end number:'))\n",
        "  t = total(x, y)\n",
        "  print('summation of %d to %d: %d'%(x, y, t))\n",
        "\n",
        "main()"
      ],
      "metadata": {
        "colab": {
          "base_uri": "https://localhost:8080/"
        },
        "id": "4LxMmlewix0k",
        "outputId": "22187dab-5e39-4e59-e6fb-bc0664edf91c"
      },
      "execution_count": 3,
      "outputs": [
        {
          "output_type": "stream",
          "name": "stdout",
          "text": [
            "Enter start number: 10\n",
            "Enter end number:100\n",
            "summation of 10 to 100: 91\n"
          ]
        }
      ]
    },
    {
      "cell_type": "code",
      "source": [
        "def total():\n",
        "  sum = 0\n",
        "  for i in range(1, 101):\n",
        "    sum += 1\n",
        "  return sum\n",
        "\n",
        "def main():\n",
        "  t = total()\n",
        "  print('summation of 1 to 100:', t)\n",
        "\n",
        "main()"
      ],
      "metadata": {
        "colab": {
          "base_uri": "https://localhost:8080/"
        },
        "id": "x--imTXfkM74",
        "outputId": "9f5276fa-fedf-41f6-9df9-d56f1ba60eed"
      },
      "execution_count": 5,
      "outputs": [
        {
          "output_type": "stream",
          "name": "stdout",
          "text": [
            "summation of 1 to 100: 100\n"
          ]
        }
      ]
    }
  ]
}