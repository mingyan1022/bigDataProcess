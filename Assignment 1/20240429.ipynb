{
  "nbformat": 4,
  "nbformat_minor": 0,
  "metadata": {
    "colab": {
      "provenance": []
    },
    "kernelspec": {
      "name": "python3",
      "display_name": "Python 3"
    },
    "language_info": {
      "name": "python"
    }
  },
  "cells": [
    {
      "cell_type": "code",
      "execution_count": 2,
      "metadata": {
        "colab": {
          "base_uri": "https://localhost:8080/"
        },
        "id": "Ozc_n1n_1a_1",
        "outputId": "f1f22f26-95aa-410b-9af7-db4d30e8f9c2"
      },
      "outputs": [
        {
          "output_type": "stream",
          "name": "stdout",
          "text": [
            "84026 15740 30520 32055 81603 89956 57908 1514 26475 75419 \n",
            "even = 6, odd = 4\n"
          ]
        }
      ],
      "source": [
        "import random\n",
        "even = 0\n",
        "odd = 0\n",
        "for i in range(1,11):\n",
        "  randNum = random.randint(1,100000)\n",
        "  print(randNum, end = ' ')\n",
        "  if randNum % 2 == 0:\n",
        "    even += 1\n",
        "  else:\n",
        "    odd += 1\n",
        "print('\\neven = %d, odd = %d'%(even, odd))"
      ]
    },
    {
      "cell_type": "code",
      "source": [
        "import random\n",
        "for i in range(1,11):\n",
        "  randNum = random.randint(1,1000000)\n",
        "  print('%4d'%(randNum), end = ' ')"
      ],
      "metadata": {
        "colab": {
          "base_uri": "https://localhost:8080/"
        },
        "id": "zU5CqRZ53MBc",
        "outputId": "88c9c9a5-6372-4825-b167-f29f46d1879a"
      },
      "execution_count": 3,
      "outputs": [
        {
          "output_type": "stream",
          "name": "stdout",
          "text": [
            "366026 51416 295308 598075 800791 101571 325973 899428 411725 125369 "
          ]
        }
      ]
    },
    {
      "cell_type": "code",
      "source": [
        "#Version 1\n",
        "import random\n",
        "times3 = 0\n",
        "times5 = 0\n",
        "times7 = 0\n",
        "others = 0\n",
        "for i in range(1,101):\n",
        "  flag = False\n",
        "  randNum = random.randint(1,100)\n",
        "  print(randNum, end = ' ')\n",
        "  if randNum % 3 == 0:\n",
        "    times3 += 1\n",
        "    flag = True\n",
        "  if randNum % 5 == 0:\n",
        "    times5 += 1\n",
        "    flag = True\n",
        "    if randNum % 7 == 0:\n",
        "      times7 +=1\n",
        "      flag = True\n",
        "    if flag == False:\n",
        "      others += 1\n",
        "print('\\ntimes3 = = %d, times5 = %d , times7 = %d'%(times3,times5,times7))\n",
        "print('others = %d'%(others))"
      ],
      "metadata": {
        "colab": {
          "base_uri": "https://localhost:8080/"
        },
        "id": "WKO1Jxk06_PJ",
        "outputId": "09d2ee87-cb6c-4ceb-a8d9-ce353a864109"
      },
      "execution_count": 5,
      "outputs": [
        {
          "output_type": "stream",
          "name": "stdout",
          "text": [
            "57 31 50 49 93 90 89 15 12 31 64 42 68 31 1 78 83 4 29 79 53 73 40 83 23 59 43 45 24 85 25 56 6 17 5 75 53 41 39 24 70 52 17 24 49 50 28 33 48 58 59 77 53 74 30 79 92 67 7 51 93 27 25 76 46 6 19 18 30 12 50 24 40 5 77 6 88 15 88 25 15 66 96 86 4 23 93 66 73 72 60 82 80 40 11 89 54 51 79 34 \n",
            "times3 = = 36, times5 = 23 , times7 = 1\n",
            "others = 0\n"
          ]
        }
      ]
    }
  ]
}